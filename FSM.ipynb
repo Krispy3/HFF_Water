{
 "cells": [
  {
   "cell_type": "markdown",
   "id": "0d5ad714",
   "metadata": {},
   "source": [
    "# First Simple Model"
   ]
  },
  {
   "cell_type": "code",
   "execution_count": 1,
   "id": "f6b79c51",
   "metadata": {},
   "outputs": [],
   "source": [
    "import numpy as np\n",
    "import pandas as pd\n",
    "import matplotlib.pyplot as plt\n",
    "%matplotlib inline\n",
    "\n",
    "from sklearn.model_selection import TimeSeriesSplit\n",
    "from sklearn.ensemble import RandomForestRegressor"
   ]
  },
  {
   "cell_type": "code",
   "execution_count": 2,
   "id": "df739299",
   "metadata": {},
   "outputs": [],
   "source": [
    "ipe_df = pd.read_csv('data/15_min_data_HFF/IPE 15 min 2022-08-08.csv')"
   ]
  },
  {
   "cell_type": "code",
   "execution_count": 3,
   "id": "2fa92c5b",
   "metadata": {},
   "outputs": [],
   "source": [
    "ipe_df = ipe_df.rename(columns={'contTime': 'date'})\n",
    "ipe_df['date'] = pd.to_datetime(ipe_df['date'])\n",
    "ipe_df.set_index(['date'], inplace=True)"
   ]
  },
  {
   "cell_type": "code",
   "execution_count": 4,
   "id": "960b2498",
   "metadata": {},
   "outputs": [],
   "source": [
    "ipe_daily = ipe_df.resample('D').mean()"
   ]
  },
  {
   "cell_type": "code",
   "execution_count": 5,
   "id": "9dfcc4c4",
   "metadata": {},
   "outputs": [],
   "source": [
    "# set cutoff date for late boundary\n",
    "ipe_daily = ipe_daily[:'2022-08-01']"
   ]
  },
  {
   "cell_type": "code",
   "execution_count": 6,
   "id": "8fbd66fc",
   "metadata": {},
   "outputs": [],
   "source": [
    "ipe_daily.drop(['TurbDailyMn', 'TurbSamp_NTU',\n",
    "       'ChloroDailyMn', 'BGADailyMn', 'ODODailyMn',\n",
    "       'TempDailyMn', 'CondDailyMn', 'TDS_mgL',\n",
    "       'TotalPres_psi', 'AshtonAirPres_psi', 'Depth_ft', 'Shift_psi',\n",
    "       'Turb_FNU_raw', 'Chloro_RFU_raw', 'BGA_RFU_raw', 'ODO_mgL_raw',\n",
    "       'Temp_C_raw', 'Cond_muSCm_raw', 'TDS_mgL_raw', 'TotalPres_psi_raw',\n",
    "       'Turb_avdymn', 'Chlor_avdymn', 'Cyano_avdymn', 'Temp_avdymn',\n",
    "       'ODO_avdymn', 'Cond_avdymn'], axis=1, inplace=True)"
   ]
  },
  {
   "cell_type": "code",
   "execution_count": 7,
   "id": "e32892ec",
   "metadata": {},
   "outputs": [],
   "source": [
    "ipe_interp = ipe_daily.interpolate(method='spline', order=2)"
   ]
  },
  {
   "cell_type": "code",
   "execution_count": 8,
   "id": "4551573a",
   "metadata": {},
   "outputs": [
    {
     "data": {
      "text/plain": [
       "Turb_FNU      0\n",
       "Chloro_RFU    0\n",
       "BGA_RFU       0\n",
       "ODO_mgL       0\n",
       "Temp_C        0\n",
       "Cond_muSCm    0\n",
       "dtype: int64"
      ]
     },
     "execution_count": 8,
     "metadata": {},
     "output_type": "execute_result"
    }
   ],
   "source": [
    "ipe_interp.isna().sum()"
   ]
  },
  {
   "cell_type": "code",
   "execution_count": 9,
   "id": "8a51c14a",
   "metadata": {},
   "outputs": [
    {
     "data": {
      "text/plain": [
       "Index(['elevation.ft', 'volume.af', 'smoothed.vol', 'smoothed.elev',\n",
       "       'surfacearea.acres', 'net.evap.af', 'delta.V.af', 'regQ.cfs',\n",
       "       'gain.cfs', 'smoothed.natQ.cfs'],\n",
       "      dtype='object')"
      ]
     },
     "execution_count": 9,
     "metadata": {},
     "output_type": "execute_result"
    }
   ],
   "source": [
    "# import island park dam hydrology data\n",
    "hydro_df = pd.read_csv('data/IslandPark.TS.csv')\n",
    "\n",
    "# set the datetime to the index\n",
    "hydro_df['date'] = pd.to_datetime(hydro_df['date'])\n",
    "hydro_df.set_index(['date'], inplace=True)\n",
    "hydro_df.index.names = ['date']\n",
    "hydro_df.columns"
   ]
  },
  {
   "cell_type": "code",
   "execution_count": 10,
   "id": "a85558d6",
   "metadata": {},
   "outputs": [],
   "source": [
    "# set the range of the data to the same as the sonde data\n",
    "hydro_df = hydro_df['2014-06-20':'2022-08-01']"
   ]
  },
  {
   "cell_type": "code",
   "execution_count": 11,
   "id": "33a0949a",
   "metadata": {},
   "outputs": [],
   "source": [
    "# interpolate NaN values\n",
    "hydro_interp = hydro_df.interpolate(method='spline', order=2)"
   ]
  },
  {
   "cell_type": "code",
   "execution_count": 12,
   "id": "1570a6e3",
   "metadata": {},
   "outputs": [],
   "source": [
    "# calculate exposed shoreline\n",
    "hydro_interp['exposed_shore'] = 8000 - hydro_interp['surfacearea.acres']"
   ]
  },
  {
   "cell_type": "code",
   "execution_count": 13,
   "id": "1388552a",
   "metadata": {},
   "outputs": [],
   "source": [
    "# drop redundant columns\n",
    "hydro_interp.drop(['volume.af', 'smoothed.vol', \n",
    "                   'smoothed.elev', 'surfacearea.acres'], axis=1, inplace=True)"
   ]
  },
  {
   "cell_type": "code",
   "execution_count": 14,
   "id": "6c8f2667",
   "metadata": {},
   "outputs": [
    {
     "data": {
      "text/plain": [
       "Index(['WE.TAVE', 'WE.DP', 'WE.AP', 'WE.SWE', 'CC.TAVE', 'CC.DP', 'CC.AP',\n",
       "       'CC.SWE', 'IP.TAVE', 'IP.DP', 'IP.AP', 'IP.SWE'],\n",
       "      dtype='object')"
      ]
     },
     "execution_count": 14,
     "metadata": {},
     "output_type": "execute_result"
    }
   ],
   "source": [
    "climate_df = pd.read_csv('data/Clean.Climate.TS.csv')\n",
    "climate_df['Date'] = pd.to_datetime(climate_df['Date'])\n",
    "climate_df.set_index(['Date'], inplace=True)\n",
    "climate_df.drop(['GT.TAVE', 'GT.TMIN', 'GT.TMAX', 'GT.DP', 'GT.AP', 'GT.SWE', 'PB.TAVE',\n",
    "       'PB.TMIN', 'PB.TMAX', 'PB.DP','HFW.AP', 'TR.SWE', 'FR.SWE', 'HF.SWE', 'HFW.SWE', 'AG.DP', 'AG.ET',\n",
    "       'HFW.Cum.P', 'AG.Cum.P', 'AG.Cum.ET', 'PB.AP', 'PB.SWE', 'BB.TAVE', 'BB.TMIN', 'BB.TMAX', 'BB.DP', 'BB.AP',\n",
    "       'BB.SWE', 'LL.TAVE', 'LL.TMIN', 'LL.TMAX', 'LL.DP', 'LL.AP', 'LL.SWE', 'GL.TAVE',\n",
    "       'GL.TMIN', 'GL.TMAX', 'GL.DP', 'GL.AP', 'GL.SWE', 'PC.TAVE', 'PC.TMIN', 'PC.TMAX',\n",
    "       'PC.DP', 'PC.AP', 'PC.SWE', 'AL.TAVE', 'AL.TMIN', 'AL.TMAX', 'AL.DP', 'AL.AP',\n",
    "       'AS.TAVE', 'AS.TMIN', 'AS.TMAX', 'AS.DP', 'AS.AP', 'AS.ET', 'RX.TAVE',\n",
    "       'RX.TMIN', 'RX.TMAX', 'RX.DP', 'RX.AP', 'RX.ET', 'TR.TAVE', 'FR.TAVE',\n",
    "       'HF.TAVE', 'VA.TAVE', 'HFW.TAVE', 'TR.TMIN', 'FR.TMIN', 'HF.TMIN',\n",
    "       'VA.TMIN', 'HFW.TMIN', 'TR.TMAX', 'FR.TMAX', 'HF.TMAX', 'VA.TMAX',\n",
    "       'HFW.TMAX', 'TR.DP', 'FR.DP', 'HF.DP', 'VA.DP', 'HFW.DP', 'TR.AP',\n",
    "       'FR.AP', 'HF.AP', 'VA.AP', 'WE.TMIN', 'WE.TMAX', 'CC.TMIN', 'CC.TMAX',\n",
    "       'IP.TMIN', 'IP.TMAX'], axis=1, inplace=True)\n",
    "climate_df.index.names = ['date']\n",
    "climate_df.columns"
   ]
  },
  {
   "cell_type": "code",
   "execution_count": 15,
   "id": "ed7e4f52",
   "metadata": {},
   "outputs": [],
   "source": [
    "climate_df = climate_df['2014-06-20':'2022-08-01']"
   ]
  },
  {
   "cell_type": "code",
   "execution_count": 16,
   "id": "61c99cab",
   "metadata": {},
   "outputs": [],
   "source": [
    "clim_interp = climate_df.interpolate(method='spline', order=2)"
   ]
  },
  {
   "cell_type": "code",
   "execution_count": 17,
   "id": "1579212d",
   "metadata": {},
   "outputs": [
    {
     "data": {
      "text/plain": [
       "WE.TAVE    0\n",
       "WE.DP      0\n",
       "WE.AP      0\n",
       "WE.SWE     0\n",
       "CC.TAVE    0\n",
       "CC.DP      0\n",
       "CC.AP      0\n",
       "CC.SWE     0\n",
       "IP.TAVE    0\n",
       "IP.DP      0\n",
       "IP.AP      0\n",
       "IP.SWE     0\n",
       "dtype: int64"
      ]
     },
     "execution_count": 17,
     "metadata": {},
     "output_type": "execute_result"
    }
   ],
   "source": [
    "clim_interp.isna().sum()"
   ]
  },
  {
   "cell_type": "code",
   "execution_count": 18,
   "id": "758e1c1e",
   "metadata": {},
   "outputs": [
    {
     "data": {
      "text/html": [
       "<div>\n",
       "<style scoped>\n",
       "    .dataframe tbody tr th:only-of-type {\n",
       "        vertical-align: middle;\n",
       "    }\n",
       "\n",
       "    .dataframe tbody tr th {\n",
       "        vertical-align: top;\n",
       "    }\n",
       "\n",
       "    .dataframe thead th {\n",
       "        text-align: right;\n",
       "    }\n",
       "</style>\n",
       "<table border=\"1\" class=\"dataframe\">\n",
       "  <thead>\n",
       "    <tr style=\"text-align: right;\">\n",
       "      <th></th>\n",
       "      <th>WE.TAVE</th>\n",
       "      <th>WE.DP</th>\n",
       "      <th>WE.AP</th>\n",
       "      <th>WE.SWE</th>\n",
       "      <th>CC.TAVE</th>\n",
       "      <th>CC.DP</th>\n",
       "      <th>CC.AP</th>\n",
       "      <th>CC.SWE</th>\n",
       "      <th>IP.TAVE</th>\n",
       "      <th>IP.DP</th>\n",
       "      <th>IP.AP</th>\n",
       "      <th>IP.SWE</th>\n",
       "    </tr>\n",
       "    <tr>\n",
       "      <th>date</th>\n",
       "      <th></th>\n",
       "      <th></th>\n",
       "      <th></th>\n",
       "      <th></th>\n",
       "      <th></th>\n",
       "      <th></th>\n",
       "      <th></th>\n",
       "      <th></th>\n",
       "      <th></th>\n",
       "      <th></th>\n",
       "      <th></th>\n",
       "      <th></th>\n",
       "    </tr>\n",
       "  </thead>\n",
       "  <tbody>\n",
       "    <tr>\n",
       "      <th>2014-06-20</th>\n",
       "      <td>56.0</td>\n",
       "      <td>0.0</td>\n",
       "      <td>37.2</td>\n",
       "      <td>0.0</td>\n",
       "      <td>58.0</td>\n",
       "      <td>0.1</td>\n",
       "      <td>16.8</td>\n",
       "      <td>0.0</td>\n",
       "      <td>58.0</td>\n",
       "      <td>0.0</td>\n",
       "      <td>19.2</td>\n",
       "      <td>0.0</td>\n",
       "    </tr>\n",
       "    <tr>\n",
       "      <th>2014-06-21</th>\n",
       "      <td>55.0</td>\n",
       "      <td>0.0</td>\n",
       "      <td>37.2</td>\n",
       "      <td>0.0</td>\n",
       "      <td>58.0</td>\n",
       "      <td>0.0</td>\n",
       "      <td>16.8</td>\n",
       "      <td>0.0</td>\n",
       "      <td>58.0</td>\n",
       "      <td>0.0</td>\n",
       "      <td>19.2</td>\n",
       "      <td>0.0</td>\n",
       "    </tr>\n",
       "    <tr>\n",
       "      <th>2014-06-22</th>\n",
       "      <td>50.0</td>\n",
       "      <td>0.2</td>\n",
       "      <td>37.4</td>\n",
       "      <td>0.0</td>\n",
       "      <td>52.0</td>\n",
       "      <td>0.0</td>\n",
       "      <td>16.8</td>\n",
       "      <td>0.0</td>\n",
       "      <td>53.0</td>\n",
       "      <td>0.0</td>\n",
       "      <td>19.2</td>\n",
       "      <td>0.0</td>\n",
       "    </tr>\n",
       "    <tr>\n",
       "      <th>2014-06-23</th>\n",
       "      <td>54.0</td>\n",
       "      <td>0.0</td>\n",
       "      <td>37.4</td>\n",
       "      <td>0.0</td>\n",
       "      <td>56.0</td>\n",
       "      <td>0.1</td>\n",
       "      <td>16.9</td>\n",
       "      <td>0.0</td>\n",
       "      <td>58.0</td>\n",
       "      <td>0.0</td>\n",
       "      <td>19.2</td>\n",
       "      <td>0.0</td>\n",
       "    </tr>\n",
       "    <tr>\n",
       "      <th>2014-06-24</th>\n",
       "      <td>58.0</td>\n",
       "      <td>0.0</td>\n",
       "      <td>37.4</td>\n",
       "      <td>0.0</td>\n",
       "      <td>60.0</td>\n",
       "      <td>0.0</td>\n",
       "      <td>16.9</td>\n",
       "      <td>0.0</td>\n",
       "      <td>62.0</td>\n",
       "      <td>0.0</td>\n",
       "      <td>19.2</td>\n",
       "      <td>0.0</td>\n",
       "    </tr>\n",
       "    <tr>\n",
       "      <th>...</th>\n",
       "      <td>...</td>\n",
       "      <td>...</td>\n",
       "      <td>...</td>\n",
       "      <td>...</td>\n",
       "      <td>...</td>\n",
       "      <td>...</td>\n",
       "      <td>...</td>\n",
       "      <td>...</td>\n",
       "      <td>...</td>\n",
       "      <td>...</td>\n",
       "      <td>...</td>\n",
       "      <td>...</td>\n",
       "    </tr>\n",
       "    <tr>\n",
       "      <th>2022-07-28</th>\n",
       "      <td>67.0</td>\n",
       "      <td>0.0</td>\n",
       "      <td>39.6</td>\n",
       "      <td>0.0</td>\n",
       "      <td>68.0</td>\n",
       "      <td>0.0</td>\n",
       "      <td>22.7</td>\n",
       "      <td>0.0</td>\n",
       "      <td>69.0</td>\n",
       "      <td>0.0</td>\n",
       "      <td>24.0</td>\n",
       "      <td>0.0</td>\n",
       "    </tr>\n",
       "    <tr>\n",
       "      <th>2022-07-29</th>\n",
       "      <td>66.0</td>\n",
       "      <td>0.0</td>\n",
       "      <td>39.6</td>\n",
       "      <td>0.0</td>\n",
       "      <td>67.0</td>\n",
       "      <td>0.0</td>\n",
       "      <td>22.7</td>\n",
       "      <td>0.0</td>\n",
       "      <td>66.0</td>\n",
       "      <td>0.0</td>\n",
       "      <td>24.0</td>\n",
       "      <td>0.0</td>\n",
       "    </tr>\n",
       "    <tr>\n",
       "      <th>2022-07-30</th>\n",
       "      <td>69.0</td>\n",
       "      <td>0.0</td>\n",
       "      <td>39.6</td>\n",
       "      <td>0.0</td>\n",
       "      <td>70.0</td>\n",
       "      <td>0.0</td>\n",
       "      <td>22.7</td>\n",
       "      <td>0.0</td>\n",
       "      <td>66.0</td>\n",
       "      <td>0.0</td>\n",
       "      <td>24.0</td>\n",
       "      <td>0.0</td>\n",
       "    </tr>\n",
       "    <tr>\n",
       "      <th>2022-07-31</th>\n",
       "      <td>71.0</td>\n",
       "      <td>0.0</td>\n",
       "      <td>39.6</td>\n",
       "      <td>0.0</td>\n",
       "      <td>72.0</td>\n",
       "      <td>0.0</td>\n",
       "      <td>22.7</td>\n",
       "      <td>0.0</td>\n",
       "      <td>65.0</td>\n",
       "      <td>0.0</td>\n",
       "      <td>24.0</td>\n",
       "      <td>0.0</td>\n",
       "    </tr>\n",
       "    <tr>\n",
       "      <th>2022-08-01</th>\n",
       "      <td>69.0</td>\n",
       "      <td>0.0</td>\n",
       "      <td>39.6</td>\n",
       "      <td>0.2</td>\n",
       "      <td>72.0</td>\n",
       "      <td>0.0</td>\n",
       "      <td>22.7</td>\n",
       "      <td>0.0</td>\n",
       "      <td>67.0</td>\n",
       "      <td>0.0</td>\n",
       "      <td>24.0</td>\n",
       "      <td>0.0</td>\n",
       "    </tr>\n",
       "  </tbody>\n",
       "</table>\n",
       "<p>2965 rows × 12 columns</p>\n",
       "</div>"
      ],
      "text/plain": [
       "            WE.TAVE  WE.DP  WE.AP  WE.SWE  CC.TAVE  CC.DP  CC.AP  CC.SWE  \\\n",
       "date                                                                       \n",
       "2014-06-20     56.0    0.0   37.2     0.0     58.0    0.1   16.8     0.0   \n",
       "2014-06-21     55.0    0.0   37.2     0.0     58.0    0.0   16.8     0.0   \n",
       "2014-06-22     50.0    0.2   37.4     0.0     52.0    0.0   16.8     0.0   \n",
       "2014-06-23     54.0    0.0   37.4     0.0     56.0    0.1   16.9     0.0   \n",
       "2014-06-24     58.0    0.0   37.4     0.0     60.0    0.0   16.9     0.0   \n",
       "...             ...    ...    ...     ...      ...    ...    ...     ...   \n",
       "2022-07-28     67.0    0.0   39.6     0.0     68.0    0.0   22.7     0.0   \n",
       "2022-07-29     66.0    0.0   39.6     0.0     67.0    0.0   22.7     0.0   \n",
       "2022-07-30     69.0    0.0   39.6     0.0     70.0    0.0   22.7     0.0   \n",
       "2022-07-31     71.0    0.0   39.6     0.0     72.0    0.0   22.7     0.0   \n",
       "2022-08-01     69.0    0.0   39.6     0.2     72.0    0.0   22.7     0.0   \n",
       "\n",
       "            IP.TAVE  IP.DP  IP.AP  IP.SWE  \n",
       "date                                       \n",
       "2014-06-20     58.0    0.0   19.2     0.0  \n",
       "2014-06-21     58.0    0.0   19.2     0.0  \n",
       "2014-06-22     53.0    0.0   19.2     0.0  \n",
       "2014-06-23     58.0    0.0   19.2     0.0  \n",
       "2014-06-24     62.0    0.0   19.2     0.0  \n",
       "...             ...    ...    ...     ...  \n",
       "2022-07-28     69.0    0.0   24.0     0.0  \n",
       "2022-07-29     66.0    0.0   24.0     0.0  \n",
       "2022-07-30     66.0    0.0   24.0     0.0  \n",
       "2022-07-31     65.0    0.0   24.0     0.0  \n",
       "2022-08-01     67.0    0.0   24.0     0.0  \n",
       "\n",
       "[2965 rows x 12 columns]"
      ]
     },
     "execution_count": 18,
     "metadata": {},
     "output_type": "execute_result"
    }
   ],
   "source": [
    "clim_interp"
   ]
  },
  {
   "cell_type": "code",
   "execution_count": 19,
   "id": "3b15bdb6",
   "metadata": {},
   "outputs": [
    {
     "ename": "KeyError",
     "evalue": "'Date'",
     "output_type": "error",
     "traceback": [
      "\u001b[1;31m---------------------------------------------------------------------------\u001b[0m",
      "\u001b[1;31mKeyError\u001b[0m                                  Traceback (most recent call last)",
      "Input \u001b[1;32mIn [19]\u001b[0m, in \u001b[0;36m<cell line: 1>\u001b[1;34m()\u001b[0m\n\u001b[1;32m----> 1\u001b[0m final_df \u001b[38;5;241m=\u001b[39m \u001b[43mpd\u001b[49m\u001b[38;5;241;43m.\u001b[39;49m\u001b[43mmerge\u001b[49m\u001b[43m(\u001b[49m\u001b[43mclim_interp\u001b[49m\u001b[43m,\u001b[49m\u001b[43m \u001b[49m\u001b[43mhydro_interp\u001b[49m\u001b[43m,\u001b[49m\u001b[43m \u001b[49m\u001b[43mon\u001b[49m\u001b[38;5;241;43m=\u001b[39;49m\u001b[43m[\u001b[49m\u001b[38;5;124;43m'\u001b[39;49m\u001b[38;5;124;43mDate\u001b[39;49m\u001b[38;5;124;43m'\u001b[39;49m\u001b[43m]\u001b[49m\u001b[43m)\u001b[49m\n\u001b[0;32m      2\u001b[0m final_df \u001b[38;5;241m=\u001b[39m pd\u001b[38;5;241m.\u001b[39mmerge(final_df, ipe_interp, on\u001b[38;5;241m=\u001b[39m[\u001b[38;5;124m'\u001b[39m\u001b[38;5;124mDate\u001b[39m\u001b[38;5;124m'\u001b[39m])\n",
      "File \u001b[1;32m~\\anaconda3\\lib\\site-packages\\pandas\\core\\reshape\\merge.py:107\u001b[0m, in \u001b[0;36mmerge\u001b[1;34m(left, right, how, on, left_on, right_on, left_index, right_index, sort, suffixes, copy, indicator, validate)\u001b[0m\n\u001b[0;32m     90\u001b[0m \u001b[38;5;129m@Substitution\u001b[39m(\u001b[38;5;124m\"\u001b[39m\u001b[38;5;130;01m\\n\u001b[39;00m\u001b[38;5;124mleft : DataFrame or named Series\u001b[39m\u001b[38;5;124m\"\u001b[39m)\n\u001b[0;32m     91\u001b[0m \u001b[38;5;129m@Appender\u001b[39m(_merge_doc, indents\u001b[38;5;241m=\u001b[39m\u001b[38;5;241m0\u001b[39m)\n\u001b[0;32m     92\u001b[0m \u001b[38;5;28;01mdef\u001b[39;00m \u001b[38;5;21mmerge\u001b[39m(\n\u001b[1;32m   (...)\u001b[0m\n\u001b[0;32m    105\u001b[0m     validate: \u001b[38;5;28mstr\u001b[39m \u001b[38;5;241m|\u001b[39m \u001b[38;5;28;01mNone\u001b[39;00m \u001b[38;5;241m=\u001b[39m \u001b[38;5;28;01mNone\u001b[39;00m,\n\u001b[0;32m    106\u001b[0m ) \u001b[38;5;241m-\u001b[39m\u001b[38;5;241m>\u001b[39m DataFrame:\n\u001b[1;32m--> 107\u001b[0m     op \u001b[38;5;241m=\u001b[39m \u001b[43m_MergeOperation\u001b[49m\u001b[43m(\u001b[49m\n\u001b[0;32m    108\u001b[0m \u001b[43m        \u001b[49m\u001b[43mleft\u001b[49m\u001b[43m,\u001b[49m\n\u001b[0;32m    109\u001b[0m \u001b[43m        \u001b[49m\u001b[43mright\u001b[49m\u001b[43m,\u001b[49m\n\u001b[0;32m    110\u001b[0m \u001b[43m        \u001b[49m\u001b[43mhow\u001b[49m\u001b[38;5;241;43m=\u001b[39;49m\u001b[43mhow\u001b[49m\u001b[43m,\u001b[49m\n\u001b[0;32m    111\u001b[0m \u001b[43m        \u001b[49m\u001b[43mon\u001b[49m\u001b[38;5;241;43m=\u001b[39;49m\u001b[43mon\u001b[49m\u001b[43m,\u001b[49m\n\u001b[0;32m    112\u001b[0m \u001b[43m        \u001b[49m\u001b[43mleft_on\u001b[49m\u001b[38;5;241;43m=\u001b[39;49m\u001b[43mleft_on\u001b[49m\u001b[43m,\u001b[49m\n\u001b[0;32m    113\u001b[0m \u001b[43m        \u001b[49m\u001b[43mright_on\u001b[49m\u001b[38;5;241;43m=\u001b[39;49m\u001b[43mright_on\u001b[49m\u001b[43m,\u001b[49m\n\u001b[0;32m    114\u001b[0m \u001b[43m        \u001b[49m\u001b[43mleft_index\u001b[49m\u001b[38;5;241;43m=\u001b[39;49m\u001b[43mleft_index\u001b[49m\u001b[43m,\u001b[49m\n\u001b[0;32m    115\u001b[0m \u001b[43m        \u001b[49m\u001b[43mright_index\u001b[49m\u001b[38;5;241;43m=\u001b[39;49m\u001b[43mright_index\u001b[49m\u001b[43m,\u001b[49m\n\u001b[0;32m    116\u001b[0m \u001b[43m        \u001b[49m\u001b[43msort\u001b[49m\u001b[38;5;241;43m=\u001b[39;49m\u001b[43msort\u001b[49m\u001b[43m,\u001b[49m\n\u001b[0;32m    117\u001b[0m \u001b[43m        \u001b[49m\u001b[43msuffixes\u001b[49m\u001b[38;5;241;43m=\u001b[39;49m\u001b[43msuffixes\u001b[49m\u001b[43m,\u001b[49m\n\u001b[0;32m    118\u001b[0m \u001b[43m        \u001b[49m\u001b[43mcopy\u001b[49m\u001b[38;5;241;43m=\u001b[39;49m\u001b[43mcopy\u001b[49m\u001b[43m,\u001b[49m\n\u001b[0;32m    119\u001b[0m \u001b[43m        \u001b[49m\u001b[43mindicator\u001b[49m\u001b[38;5;241;43m=\u001b[39;49m\u001b[43mindicator\u001b[49m\u001b[43m,\u001b[49m\n\u001b[0;32m    120\u001b[0m \u001b[43m        \u001b[49m\u001b[43mvalidate\u001b[49m\u001b[38;5;241;43m=\u001b[39;49m\u001b[43mvalidate\u001b[49m\u001b[43m,\u001b[49m\n\u001b[0;32m    121\u001b[0m \u001b[43m    \u001b[49m\u001b[43m)\u001b[49m\n\u001b[0;32m    122\u001b[0m     \u001b[38;5;28;01mreturn\u001b[39;00m op\u001b[38;5;241m.\u001b[39mget_result()\n",
      "File \u001b[1;32m~\\anaconda3\\lib\\site-packages\\pandas\\core\\reshape\\merge.py:700\u001b[0m, in \u001b[0;36m_MergeOperation.__init__\u001b[1;34m(self, left, right, how, on, left_on, right_on, axis, left_index, right_index, sort, suffixes, copy, indicator, validate)\u001b[0m\n\u001b[0;32m    693\u001b[0m \u001b[38;5;28mself\u001b[39m\u001b[38;5;241m.\u001b[39m_cross \u001b[38;5;241m=\u001b[39m cross_col\n\u001b[0;32m    695\u001b[0m \u001b[38;5;66;03m# note this function has side effects\u001b[39;00m\n\u001b[0;32m    696\u001b[0m (\n\u001b[0;32m    697\u001b[0m     \u001b[38;5;28mself\u001b[39m\u001b[38;5;241m.\u001b[39mleft_join_keys,\n\u001b[0;32m    698\u001b[0m     \u001b[38;5;28mself\u001b[39m\u001b[38;5;241m.\u001b[39mright_join_keys,\n\u001b[0;32m    699\u001b[0m     \u001b[38;5;28mself\u001b[39m\u001b[38;5;241m.\u001b[39mjoin_names,\n\u001b[1;32m--> 700\u001b[0m ) \u001b[38;5;241m=\u001b[39m \u001b[38;5;28;43mself\u001b[39;49m\u001b[38;5;241;43m.\u001b[39;49m\u001b[43m_get_merge_keys\u001b[49m\u001b[43m(\u001b[49m\u001b[43m)\u001b[49m\n\u001b[0;32m    702\u001b[0m \u001b[38;5;66;03m# validate the merge keys dtypes. We may need to coerce\u001b[39;00m\n\u001b[0;32m    703\u001b[0m \u001b[38;5;66;03m# to avoid incompatible dtypes\u001b[39;00m\n\u001b[0;32m    704\u001b[0m \u001b[38;5;28mself\u001b[39m\u001b[38;5;241m.\u001b[39m_maybe_coerce_merge_keys()\n",
      "File \u001b[1;32m~\\anaconda3\\lib\\site-packages\\pandas\\core\\reshape\\merge.py:1097\u001b[0m, in \u001b[0;36m_MergeOperation._get_merge_keys\u001b[1;34m(self)\u001b[0m\n\u001b[0;32m   1095\u001b[0m \u001b[38;5;28;01mif\u001b[39;00m \u001b[38;5;129;01mnot\u001b[39;00m is_rkey(rk):\n\u001b[0;32m   1096\u001b[0m     \u001b[38;5;28;01mif\u001b[39;00m rk \u001b[38;5;129;01mis\u001b[39;00m \u001b[38;5;129;01mnot\u001b[39;00m \u001b[38;5;28;01mNone\u001b[39;00m:\n\u001b[1;32m-> 1097\u001b[0m         right_keys\u001b[38;5;241m.\u001b[39mappend(\u001b[43mright\u001b[49m\u001b[38;5;241;43m.\u001b[39;49m\u001b[43m_get_label_or_level_values\u001b[49m\u001b[43m(\u001b[49m\u001b[43mrk\u001b[49m\u001b[43m)\u001b[49m)\n\u001b[0;32m   1098\u001b[0m     \u001b[38;5;28;01melse\u001b[39;00m:\n\u001b[0;32m   1099\u001b[0m         \u001b[38;5;66;03m# work-around for merge_asof(right_index=True)\u001b[39;00m\n\u001b[0;32m   1100\u001b[0m         right_keys\u001b[38;5;241m.\u001b[39mappend(right\u001b[38;5;241m.\u001b[39mindex)\n",
      "File \u001b[1;32m~\\anaconda3\\lib\\site-packages\\pandas\\core\\generic.py:1840\u001b[0m, in \u001b[0;36mNDFrame._get_label_or_level_values\u001b[1;34m(self, key, axis)\u001b[0m\n\u001b[0;32m   1838\u001b[0m     values \u001b[38;5;241m=\u001b[39m \u001b[38;5;28mself\u001b[39m\u001b[38;5;241m.\u001b[39maxes[axis]\u001b[38;5;241m.\u001b[39mget_level_values(key)\u001b[38;5;241m.\u001b[39m_values\n\u001b[0;32m   1839\u001b[0m \u001b[38;5;28;01melse\u001b[39;00m:\n\u001b[1;32m-> 1840\u001b[0m     \u001b[38;5;28;01mraise\u001b[39;00m \u001b[38;5;167;01mKeyError\u001b[39;00m(key)\n\u001b[0;32m   1842\u001b[0m \u001b[38;5;66;03m# Check for duplicates\u001b[39;00m\n\u001b[0;32m   1843\u001b[0m \u001b[38;5;28;01mif\u001b[39;00m values\u001b[38;5;241m.\u001b[39mndim \u001b[38;5;241m>\u001b[39m \u001b[38;5;241m1\u001b[39m:\n",
      "\u001b[1;31mKeyError\u001b[0m: 'Date'"
     ]
    }
   ],
   "source": [
    "final_df = pd.merge(clim_interp, hydro_interp, on=['Date'])\n",
    "final_df = pd.merge(final_df, ipe_interp, on=['Date'])"
   ]
  },
  {
   "cell_type": "code",
   "execution_count": null,
   "id": "2b4f76b1",
   "metadata": {},
   "outputs": [],
   "source": [
    "final_df.isna().sum()"
   ]
  },
  {
   "cell_type": "code",
   "execution_count": null,
   "id": "d1c0779f",
   "metadata": {},
   "outputs": [],
   "source": [
    "final_df.plot(figsize=(26,18))"
   ]
  },
  {
   "cell_type": "code",
   "execution_count": null,
   "id": "4279659f",
   "metadata": {},
   "outputs": [],
   "source": [
    "fsm = RandomForestRegressor(n_estimators=100, max_depth=100, random_state=42)"
   ]
  },
  {
   "cell_type": "code",
   "execution_count": null,
   "id": "b2ab674b",
   "metadata": {},
   "outputs": [],
   "source": [
    "# create train-test split for FSM\n",
    "cutoff = round(final_df.shape[0]*0.8)\n",
    "X_train = final_df.drop(['Turb_FNU'], axis=1)[:cutoff]\n",
    "X_test = final_df.drop(['Turb_FNU'], axis=1)[cutoff:]\n",
    "y_train = final_df['Turb_FNU'][:cutoff]\n",
    "y_test = final_df['Turb_FNU'][cutoff:]"
   ]
  },
  {
   "cell_type": "code",
   "execution_count": null,
   "id": "05f54b17",
   "metadata": {},
   "outputs": [],
   "source": [
    "fig, ax = plt.subplots(figsize=(12, 8))\n",
    "ax.plot(X_train, label='X train')\n",
    "ax.plot(X_test, label='X test')\n",
    "ax.plot(y_train, label='y train')\n",
    "ax.plot(y_test, label='y test')\n",
    "ax.set_title('Train-Test Split');\n",
    "plt.legend();"
   ]
  },
  {
   "cell_type": "code",
   "execution_count": null,
   "id": "cb190228",
   "metadata": {},
   "outputs": [],
   "source": [
    "fsm.fit(X_train, y_train)"
   ]
  },
  {
   "cell_type": "code",
   "execution_count": null,
   "id": "f902552c",
   "metadata": {},
   "outputs": [],
   "source": [
    "fsm_pred = fsm.predict(X_test)"
   ]
  },
  {
   "cell_type": "code",
   "execution_count": null,
   "id": "e4a37ad3",
   "metadata": {},
   "outputs": [],
   "source": [
    "fsm_pred = pd.DataFrame(fsm_pred)\n",
    "fsm_pred.set_index(X_test.index, inplace=True)"
   ]
  },
  {
   "cell_type": "code",
   "execution_count": null,
   "id": "6fdca4fe",
   "metadata": {},
   "outputs": [],
   "source": [
    "plt.rcParams[\"figure.figsize\"] = (12,8)\n",
    "plt.plot(fsm_pred,label='Random_Forest_Predictions')\n",
    "plt.plot(y_test,label='Actual Turb')\n",
    "plt.legend(loc=\"upper left\")\n",
    "plt.show()"
   ]
  },
  {
   "cell_type": "code",
   "execution_count": null,
   "id": "9ca1679e",
   "metadata": {},
   "outputs": [],
   "source": [
    "fsm.score(X_test, y_test)"
   ]
  },
  {
   "cell_type": "markdown",
   "id": "e6d6bdb0",
   "metadata": {},
   "source": [
    "This model is arbitrarily worse than just guessing the mean value for turbidity by about 75%. Different hyperparameters or a grid search is needed to improve it, and likely I should find a different model to use altogether. Also, Making the data stationary before testing should drastically improve results. This model is just proof of concept to myself that I can do this."
   ]
  },
  {
   "cell_type": "code",
   "execution_count": null,
   "id": "4ddf80c4",
   "metadata": {},
   "outputs": [],
   "source": []
  }
 ],
 "metadata": {
  "kernelspec": {
   "display_name": "Python 3 (ipykernel)",
   "language": "python",
   "name": "python3"
  },
  "language_info": {
   "codemirror_mode": {
    "name": "ipython",
    "version": 3
   },
   "file_extension": ".py",
   "mimetype": "text/x-python",
   "name": "python",
   "nbconvert_exporter": "python",
   "pygments_lexer": "ipython3",
   "version": "3.9.12"
  }
 },
 "nbformat": 4,
 "nbformat_minor": 5
}
